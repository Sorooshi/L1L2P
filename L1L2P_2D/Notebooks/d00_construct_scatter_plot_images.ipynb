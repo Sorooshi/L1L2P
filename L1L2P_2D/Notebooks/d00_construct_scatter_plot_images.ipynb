{
 "cells": [
  {
   "cell_type": "code",
   "execution_count": 1,
   "metadata": {
    "ExecuteTime": {
     "end_time": "2023-08-31T15:31:04.689629Z",
     "start_time": "2023-08-31T15:31:04.666464Z"
    },
    "collapsed": false
   },
   "outputs": [],
   "source": [
    "%load_ext autoreload\n",
    "%autoreload 2"
   ]
  },
  {
   "cell_type": "code",
   "execution_count": 2,
   "metadata": {},
   "outputs": [],
   "source": [
    "import sys\n",
    "\n",
    "sys.path.append('../')\n",
    "sys.path.append('../L2')"
   ]
  },
  {
   "cell_type": "code",
   "execution_count": 3,
   "metadata": {
    "ExecuteTime": {
     "end_time": "2023-08-31T15:31:09.436708Z",
     "start_time": "2023-08-31T15:31:04.757887Z"
    },
    "collapsed": true
   },
   "outputs": [],
   "source": [
    "import numpy as np\n",
    "import matplotlib.pyplot as plt\n",
    "import threading\n",
    "\n",
    "from L2.data import split_data\n",
    "from L2.data import heatdata\n",
    "from L2.data import heatmap"
   ]
  },
  {
   "cell_type": "code",
   "execution_count": 23,
   "metadata": {
    "collapsed": false
   },
   "outputs": [],
   "source": [
    "def gen_gauss_npz(lang):\n",
    "    def gen_save_gauss(lang, wh, X, Y, dur, y, demo):\n",
    "        X_img = np.zeros((len(X), 60, 180))\n",
    "        for i in range(len(X)):\n",
    "            X_img[i, :, :] = heatdata.fig_to_np(heatmap.draw_heatmap(X[i], Y[i], dur[i], gaussian_wh=wh))\n",
    "        np.savez(f'../Data/gauss/{lang}_wh{wh}.npz', X=X_img, y=y, demo=demo)\n",
    "\n",
    "    data = split_data.concat_MECO_langs([lang])\n",
    "    X, y, demo = split_data.split_into_time_series(data, truncate=False, test_size=0, target='Target_Ave')\n",
    "    X_x = [np.array(t['Fix_X'].values) for t in X]\n",
    "    X_y = [np.array(t['Fix_Y'].values) for t in X]\n",
    "    X_dur = [np.array(t['Fix_Duration'].values) for t in X]\n",
    "    \n",
    "    threads = []\n",
    "    for wh in heatdata.wh_list:\n",
    "        x = threading.Thread(target=gen_save_gauss, args=(lang, wh, X_x, X_y, X_dur, y, demo))\n",
    "        threads.append(x)\n",
    "        threads[-1].start()\n",
    "    for t in threads:\n",
    "        t.join()"
   ]
  },
  {
   "cell_type": "code",
   "execution_count": 27,
   "metadata": {},
   "outputs": [],
   "source": [
    "def gen_scatter_npz(lang):\n",
    "    data = split_data.concat_MECO_langs([lang])\n",
    "    X, y, demo = split_data.split_into_time_series(data, truncate=False, test_size=0, target='Target_Ave')\n",
    "    X_x = [np.array(t['Fix_X'].values) for t in X]\n",
    "    X_y = [np.array(t['Fix_Y'].values) for t in X]\n",
    "    X_dur = [np.array(t['Fix_Duration'].values) for t in X]\n",
    "\n",
    "    X_img = np.zeros((len(X), 60, 180))\n",
    "    for i in range(len(X)):\n",
    "        X_img[i, :, :] = heatdata.fig_to_np(heatmap.draw_scatter(X_x[i], X_y[i], X_dur[i]))\n",
    "        plt.clf()\n",
    "    np.savez(f'../Data/scatter/{lang}.npz', X=X_img, y=y, demo=demo)"
   ]
  },
  {
   "cell_type": "code",
   "execution_count": 28,
   "metadata": {},
   "outputs": [],
   "source": [
    "def gen_dot_npz(lang):\n",
    "    data = split_data.concat_MECO_langs([lang])\n",
    "    X, y, demo = split_data.split_into_time_series(data, truncate=False, test_size=0, target='Target_Ave')\n",
    "    X_x = [np.array(t['Fix_X'].values) for t in X]\n",
    "    X_y = [np.array(t['Fix_Y'].values) for t in X]\n",
    "    X_dur = [np.array(t['Fix_Duration'].values) for t in X]\n",
    "\n",
    "    X_img = np.zeros((len(X), 60, 180))\n",
    "    for i in range(len(X)):\n",
    "        X_img[i, :, :] = heatmap.draw_dot(X_x[i], X_y[i], X_dur[i])\n",
    "    np.savez(f'../Data/dot/{lang}.npz', X=X_img, y=y, demo=demo)"
   ]
  },
  {
   "cell_type": "code",
   "execution_count": 29,
   "metadata": {},
   "outputs": [
    {
     "data": {
      "text/plain": [
       "<Figure size 640x480 with 0 Axes>"
      ]
     },
     "metadata": {},
     "output_type": "display_data"
    }
   ],
   "source": [
    "for lang in split_data.lang_list:\n",
    "    # gen_gauss_npz(lang)\n",
    "    gen_scatter_npz(lang)"
   ]
  },
  {
   "cell_type": "code",
   "execution_count": 18,
   "metadata": {
    "ExecuteTime": {
     "end_time": "2023-08-31T15:31:13.960908Z",
     "start_time": "2023-08-31T15:31:13.786978Z"
    },
    "collapsed": false
   },
   "outputs": [],
   "source": [
    "lang = 'du'\n",
    "data = split_data.concat_MECO_langs([lang])\n",
    "\n",
    "X, y, demo = split_data.split_into_time_series(data, truncate=False, test_size=0, target='Target_Ave')\n",
    "X_x = [np.array(t['Fix_X'].values) for t in X]\n",
    "X_y = [np.array(t['Fix_Y'].values) for t in X]\n",
    "X_dur = [np.array(t['Fix_Duration'].values) for t in X]"
   ]
  },
  {
   "cell_type": "code",
   "execution_count": 19,
   "metadata": {},
   "outputs": [],
   "source": [
    "i = 0\n",
    "X_gauss = heatdata.fig_to_np(heatmap.draw_heatmap(X_x[i], X_y[i], X_dur[i], gaussian_wh=200))\n",
    "X_scatter = heatdata.fig_to_np(heatmap.draw_scatter(X_x[i], X_y[i], X_dur[i]))\n",
    "X_dot = heatmap.draw_dot(X_x[i], X_y[i], X_dur[i])"
   ]
  },
  {
   "cell_type": "code",
   "execution_count": 20,
   "metadata": {
    "ExecuteTime": {
     "end_time": "2023-08-31T15:31:14.159409Z",
     "start_time": "2023-08-31T15:31:13.955042Z"
    },
    "collapsed": false
   },
   "outputs": [
    {
     "data": {
      "text/plain": [
       "<matplotlib.image.AxesImage at 0x5c3c8ed40>"
      ]
     },
     "execution_count": 20,
     "metadata": {},
     "output_type": "execute_result"
    },
    {
     "data": {
      "image/png": "[encoded data removed]",
      "text/plain": [
       "<Figure size 640x480 with 1 Axes>"
      ]
     },
     "metadata": {},
     "output_type": "display_data"
    }
   ],
   "source": [
    "plt.imshow(X_gauss, interpolation='nearest', cmap='Greys')"
   ]
  },
  {
   "cell_type": "code",
   "execution_count": 21,
   "metadata": {},
   "outputs": [
    {
     "data": {
      "text/plain": [
       "array([[0, 0, 0, ..., 0, 0, 0],\n",
       "       [0, 0, 0, ..., 0, 0, 0],\n",
       "       [0, 0, 0, ..., 0, 0, 0],\n",
       "       ...,\n",
       "       [0, 0, 0, ..., 0, 0, 0],\n",
       "       [0, 0, 0, ..., 0, 0, 0],\n",
       "       [0, 0, 0, ..., 0, 0, 0]], dtype=uint8)"
      ]
     },
     "execution_count": 21,
     "metadata": {},
     "output_type": "execute_result"
    }
   ],
   "source": [
    "X_gauss"
   ]
  },
  {
   "cell_type": "code",
   "execution_count": 22,
   "metadata": {
    "collapsed": false
   },
   "outputs": [
    {
     "data": {
      "text/plain": [
       "<matplotlib.image.AxesImage at 0x29d3dbd60>"
      ]
     },
     "execution_count": 22,
     "metadata": {},
     "output_type": "execute_result"
    },
    {
     "data": {
      "image/png": "[encoded data removed]",
      "text/plain": [
       "<Figure size 640x480 with 1 Axes>"
      ]
     },
     "metadata": {},
     "output_type": "display_data"
    }
   ],
   "source": [
    "plt.imshow(X_scatter, interpolation='nearest', cmap='Greys')"
   ]
  },
  {
   "cell_type": "code",
   "execution_count": 114,
   "metadata": {},
   "outputs": [
    {
     "data": {
      "text/plain": [
       "<matplotlib.image.AxesImage at 0x294f55de0>"
      ]
     },
     "execution_count": 114,
     "metadata": {},
     "output_type": "execute_result"
    },
    {
     "data": {
      "image/png": "[encoded data removed]",
      "text/plain": [
       "<Figure size 640x480 with 1 Axes>"
      ]
     },
     "metadata": {},
     "output_type": "display_data"
    }
   ],
   "source": [
    "plt.imshow(X_dot, interpolation='nearest', cmap='Greys')"
   ]
  },
  {
   "cell_type": "code",
   "execution_count": 30,
   "metadata": {},
   "outputs": [
    {
     "data": {
      "text/plain": [
       "array([[0., 0., 0., ..., 0., 0., 0.],\n",
       "       [0., 0., 0., ..., 0., 0., 0.],\n",
       "       [0., 0., 0., ..., 0., 0., 0.],\n",
       "       ...,\n",
       "       [0., 0., 0., ..., 0., 0., 0.],\n",
       "       [0., 0., 0., ..., 0., 0., 0.],\n",
       "       [0., 0., 0., ..., 0., 0., 0.]])"
      ]
     },
     "execution_count": 30,
     "metadata": {},
     "output_type": "execute_result"
    },
    {
     "data": {
      "image/png": "[encoded data removed]",
      "text/plain": [
       "<Figure size 640x480 with 1 Axes>"
      ]
     },
     "metadata": {},
     "output_type": "display_data"
    }
   ],
   "source": [
    "Xs, y, demo = heatdata.load_scatter(['ru'], '../Data/scatter')\n",
    "plt.imshow(Xs[0, :, :], interpolation='nearest', cmap='Greys')\n",
    "Xs[0, :, :]"
   ]
  },
  {
   "cell_type": "code",
   "execution_count": null,
   "metadata": {},
   "outputs": [],
   "source": []
  }
 ],
 "metadata": {
  "kernelspec": {
   "display_name": "Python 3 (ipykernel)",
   "language": "python",
   "name": "python3"
  },
  "language_info": {
   "codemirror_mode": {
    "name": "ipython",
    "version": 3
   },
   "file_extension": ".py",
   "mimetype": "text/x-python",
   "name": "python",
   "nbconvert_exporter": "python",
   "pygments_lexer": "ipython3",
   "version": "3.10.12"
  }
 },
 "nbformat": 4,
 "nbformat_minor": 0
}
